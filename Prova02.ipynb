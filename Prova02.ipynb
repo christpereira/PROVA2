{
 "cells": [
  {
   "cell_type": "code",
   "execution_count": 11,
   "id": "0a6d147b-f67f-4d05-a843-a7da8270fcf2",
   "metadata": {},
   "outputs": [
    {
     "name": "stdin",
     "output_type": "stream",
     "text": [
      "O mês tem quantos dias? 0\n"
     ]
    }
   ],
   "source": [
    "# recebendo do usuário\n",
    "\n",
    "from statistics import mean\n",
    "consumo_diario = []\n",
    "\n",
    "def consumo(lista):\n",
    "    return mean(lista)\n",
    "\n",
    "mes = int(input(\"O mês tem quantos dias?\"))\n",
    "\n",
    "if mes == 28:\n",
    "    for i in range(1, mes + 1):\n",
    "        consumo_diario.append(int(input(f\"Me informe o consumo diário do {i} dia\")))\n",
    "    media = consumo(consumo_diario)\n",
    "    print(f\"O consumo diário médio foi: {media:.2f}\")\n",
    "\n",
    "if mes == 29:\n",
    "    for i in range(1, mes + 1):\n",
    "        consumo_diario.append(int(input(f\"Me informe o consumo diário do {i} dia\")))\n",
    "    media = consumo(consumo_diario)\n",
    "    print(f\"O consumo diário médio foi: {media:.2f}\")\n",
    "\n",
    "elif mes == 30:\n",
    "    for i in range(1, mes + 1):\n",
    "        consumo_diario.append(int(input(f\"Me informe o consumo diário do {i} dia\")))\n",
    "    media = consumo(consumo_diario)\n",
    "    print(f\"O consumo diário médio foi: {media:.2f}\")\n",
    "          \n",
    "elif mes == 31:\n",
    "    for i in range(1, mes + 1):\n",
    "        consumo_diario.append(int(input(f\"Me informe o consumo diário do {i} dia\")))\n",
    "    media = consumo(consumo_diario)\n",
    "    print(f\"O consumo diário médio foi: {media:.2f}\")"
   ]
  },
  {
   "cell_type": "code",
   "execution_count": 5,
   "id": "db5de96b-88ca-43ff-b705-ce7120faf306",
   "metadata": {},
   "outputs": [
    {
     "name": "stdout",
     "output_type": "stream",
     "text": [
      "O consumo diário médio foi: 51.37\n"
     ]
    }
   ],
   "source": [
    "# utilizando a lista da folha\n",
    "\n",
    "from statistics import mean\n",
    "consumo_diario = [50, 45, 55, 60, 48, 52, 47, 49, 53, 51, 50, 46, 54, 61, 49, 53, 48, 50, 52, 47, 56, 50, 55, 60, 48, 52, 47, 49, 53, 51]\n",
    "\n",
    "def consumo(lista):\n",
    "    return mean(lista)\n",
    "\n",
    "media = consumo(consumo_diario)\n",
    "\n",
    "print(f\"O consumo diário médio foi: {media:.2f}\")"
   ]
  }
 ],
 "metadata": {
  "kernelspec": {
   "display_name": "Python [conda env:base] *",
   "language": "python",
   "name": "conda-base-py"
  },
  "language_info": {
   "codemirror_mode": {
    "name": "ipython",
    "version": 3
   },
   "file_extension": ".py",
   "mimetype": "text/x-python",
   "name": "python",
   "nbconvert_exporter": "python",
   "pygments_lexer": "ipython3",
   "version": "3.12.7"
  }
 },
 "nbformat": 4,
 "nbformat_minor": 5
}
