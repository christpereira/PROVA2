{
 "cells": [
  {
   "cell_type": "code",
   "execution_count": 71,
   "id": "0a6d147b-f67f-4d05-a843-a7da8270fcf2",
   "metadata": {},
   "outputs": [
    {
     "name": "stdin",
     "output_type": "stream",
     "text": [
      "O mês tem quantos dias? 31\n",
      "Me informe o consumo diário do 1 dia 45\n",
      "Me informe o consumo diário do 2 dia 56\n",
      "Me informe o consumo diário do 3 dia 76\n",
      "Me informe o consumo diário do 4 dia 87\n",
      "Me informe o consumo diário do 5 dia 9\n",
      "Me informe o consumo diário do 6 dia 45\n",
      "Me informe o consumo diário do 7 dia 6\n",
      "Me informe o consumo diário do 8 dia 76\n",
      "Me informe o consumo diário do 9 dia 87\n",
      "Me informe o consumo diário do 10 dia 79\n",
      "Me informe o consumo diário do 11 dia 564\n",
      "Me informe o consumo diário do 12 dia 2\n",
      "Me informe o consumo diário do 13 dia 54\n",
      "Me informe o consumo diário do 14 dia 57\n",
      "Me informe o consumo diário do 15 dia 76\n",
      "Me informe o consumo diário do 16 dia 43\n",
      "Me informe o consumo diário do 17 dia 65\n",
      "Me informe o consumo diário do 18 dia 75\n",
      "Me informe o consumo diário do 19 dia 532\n",
      "Me informe o consumo diário do 20 dia 75\n",
      "Me informe o consumo diário do 21 dia 86\n",
      "Me informe o consumo diário do 22 dia 96\n",
      "Me informe o consumo diário do 23 dia 64\n",
      "Me informe o consumo diário do 24 dia 234\n",
      "Me informe o consumo diário do 25 dia 63\n",
      "Me informe o consumo diário do 26 dia 865\n",
      "Me informe o consumo diário do 27 dia 45\n",
      "Me informe o consumo diário do 28 dia 243\n",
      "Me informe o consumo diário do 29 dia 85\n",
      "Me informe o consumo diário do 30 dia 58\n",
      "Me informe o consumo diário do 31 dia 54\n"
     ]
    },
    {
     "name": "stdout",
     "output_type": "stream",
     "text": [
      "O consumo diário médio foi: 129.09677419354838:.2f\n"
     ]
    }
   ],
   "source": [
    "\n",
    "from statistics import mean\n",
    "consumo_diario = []\n",
    "\n",
    "def consumo(lista):\n",
    "    return mean(lista)\n",
    "\n",
    "mes = int(input(\"O mês tem quantos dias?\"))\n",
    "\n",
    "if mes == 28:\n",
    "    for i in range(1, mes + 1):\n",
    "        consumo_diario.append(int(input(f\"Me informe o consumo diário do {i} dia\")))\n",
    "    media = consumo(consumo_diario)\n",
    "    print(f\"O consumo diário médio foi: {media}\")\n",
    "\n",
    "if mes == 29:\n",
    "    for i in range(1, mes + 1):\n",
    "        consumo_diario.append(int(input(f\"Me informe o consumo diário do {i} dia\")))\n",
    "    media = consumo(consumo_diario)\n",
    "    print(f\"O consumo diário médio foi: {media}\")\n",
    "\n",
    "elif mes == 30:\n",
    "    for i in range(1, mes + 1):\n",
    "        consumo_diario.append(int(input(f\"Me informe o consumo diário do {i} dia\")))\n",
    "    media = consumo(consumo_diario)\n",
    "    print(f\"O consumo diário médio foi: {media}\")\n",
    "          \n",
    "elif mes == 31:\n",
    "    for i in range(1, mes + 1):\n",
    "        consumo_diario.append(int(input(f\"Me informe o consumo diário do {i} dia\")))\n",
    "    media = consumo(consumo_diario)\n",
    "    print(f\"O consumo diário médio foi: {media}\")\n"
   ]
  }
 ],
 "metadata": {
  "kernelspec": {
   "display_name": "Python [conda env:base] *",
   "language": "python",
   "name": "conda-base-py"
  },
  "language_info": {
   "codemirror_mode": {
    "name": "ipython",
    "version": 3
   },
   "file_extension": ".py",
   "mimetype": "text/x-python",
   "name": "python",
   "nbconvert_exporter": "python",
   "pygments_lexer": "ipython3",
   "version": "3.12.7"
  }
 },
 "nbformat": 4,
 "nbformat_minor": 5
}
